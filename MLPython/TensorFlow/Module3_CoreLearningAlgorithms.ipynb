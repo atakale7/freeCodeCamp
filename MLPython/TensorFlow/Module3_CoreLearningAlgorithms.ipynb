{
 "cells": [
  {
   "cell_type": "markdown",
   "metadata": {},
   "source": [
    "* Linear Regression <br>\n",
    "   * Most basic form of ML <br>\n",
    "   * used to predict numeric values <br>\n",
    "   * most useful when you have data points that correlate in linear fashion <br>\n",
    "* line of best fit refers to a line through a scatter plot of data points that best expresses the relationship between points\n",
    "* linear approach to modelling a relationship between a target (dependent) variable and one or more explanatory variables (independent) variables\n",
    "* Equation of a line y = mx + b <br> \n",
    "    m = slope of line (rise vs run) <br>\n",
    "    b = y-intercept <br>\n",
    "* close to as many data points as possible with even split of points"
   ]
  },
  {
   "cell_type": "code",
   "execution_count": null,
   "metadata": {},
   "outputs": [],
   "source": []
  }
 ],
 "metadata": {
  "kernelspec": {
   "display_name": "TFenv",
   "language": "python",
   "name": "tfenv"
  },
  "language_info": {
   "codemirror_mode": {
    "name": "ipython",
    "version": 3
   },
   "file_extension": ".py",
   "mimetype": "text/x-python",
   "name": "python",
   "nbconvert_exporter": "python",
   "pygments_lexer": "ipython3",
   "version": "3.6.10"
  }
 },
 "nbformat": 4,
 "nbformat_minor": 4
}
