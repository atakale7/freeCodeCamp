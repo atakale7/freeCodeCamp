{
 "cells": [
  {
   "cell_type": "markdown",
   "metadata": {},
   "source": [
    "### Neural Networks\n",
    "* Layered representation of data\n",
    "* \"deep\" refers to presence of multiple layers\n",
    "* for traditional ML algorithms data is not transformed or modified within the model\n",
    "* NN attempts to represent data in different ways and different diemsnions\n",
    "* On lower level NN are combination of elementary maths operations and some advanced linear algebra\n",
    "* Sequence of layers through which the data passes\n",
    "* Consists of multiple neurons\n",
    "* Neurons in multiple layers are connected with weights\n",
    "* Each layer also has bias - single neuron with no connection to previous layer\n",
    "* Input layer, output layer and hidden layers\n",
    "* For multi-class output, the output nodes represent probability distribution\n",
    "* Trainable parameters    \n",
    "    * Weights or params\n",
    "    * bias - another layer of complexity\n",
    "* Activation functions - sigmoid, tanh, ReLU\n",
    "    * move up in dimensionality\n",
    "* Start with random weights and random biases\n",
    "* Loss function - how far away our computed output was from actual output\n",
    "    * Mean Absolute Error\n",
    "    * Mean Squared Error\n",
    "* Backpropagation\n",
    "* Optimizer Function - Gradient Descent\n",
    "    * Find the global minimum (global optima)\n",
    "    * determine which direction we should move (direction/steepness) to minimize loss\n",
    "* Training Process\n",
    "    * Feed forward - make predictions\n",
    "    * Cost/loss function - evaluate how close the predictions were to known labels\n",
    "    * Gradient Descent - Find direction/steepness to minimie loss\n",
    "    * Back propagation\n",
    "    * Update parameters\n",
    "    * Repeat the iterative process"
   ]
  },
  {
   "cell_type": "markdown",
   "metadata": {},
   "source": [
    "#### Keras\n",
    "* high level NN API\n",
    "* capable on running on top of TF, CNTK, Theano\n",
    "* developed with a focus on fast experimentation\n",
    "* easy and fast prototyping (user friendliness, modularity and extensibility)\n",
    "* Supports both CNN and RNN\n",
    "* Runs on both CPU and GPU\n",
    "* Hides mathematical complexity"
   ]
  },
  {
   "cell_type": "markdown",
   "metadata": {},
   "source": [
    "#### Data\n",
    "* shape and data-type\n",
    "* vector data (2D)\n",
    "* Time series or sequence (3D)\n",
    "* Image data (4D)\n",
    "* Video data (5D)\n",
    "#### Layers\n",
    "* NN consists of multiple layers\n",
    "* input, hidden and output\n",
    "* more complex the model, more the number of hidden layers\n",
    "#### Neurons\n",
    "* Each layer is made up on multiple neurons (computing units)\n",
    "* Each neuron is responsible for generating/holding/passing 1 numeric values\n",
    "* Input layer will have no. of neurons corresponding to input data\n",
    "* Output layers will have neurons = no. of output classes\n",
    "* Hidden layer can have any number of neurons\n",
    "#### Connected Layers\n",
    "* Neurons in a layer are connected to neurons in subsequent layers\n",
    "* Neurons can be connoected in a variety of different ways\n",
    "* Fully connected (dense), dropout etc\n",
    "#### Weights\n",
    "* associated with each connection in NN\n",
    "* denotes the strength of connection\n",
    "* trainable paramter - tweaked as NN is trained\n",
    "* start out with a constant or random value\n",
    "#### Bias\n",
    "* trainable paramter - tweaked as NN is trained\n",
    "* constant value associated with each layer - one bias for each layer\n",
    "* extra neuron with no connections to previous layer\n",
    "* purpose is to shift an entire activation by constant value\n",
    "#### Activation Function\n",
    "* applied to weighted sum of a neuron\n",
    "* ReLU - rectified linear unit\n",
    "* sigmoid (0, 1)\n",
    "* tanh (-1, 1)\n",
    "#### Back-propagation\n",
    "* fundamental algorithm behind training NN\n",
    "* It is what that changes the trainable parameters (weights and biases)\n",
    "* Loss/Cost Function\n",
    "    * NN feeds forward data through layers until it eventually reached output layer\n",
    "    * Evaluate how well the NN is doing\n",
    "    * compare the output from NN with the expected output (label)\n",
    "    * determines how far the predicted output is from the expected output\n",
    "    * MAE, MSQ, Hinge Loss\n",
    "* Optimizer\n",
    "    * Algorithm used to determine optimal parameters (weights and biases)\n",
    "    * used to minimize the loss/cost function\n",
    "    * gradient descent\n",
    "    * stochastic gradient descent\n",
    "    * mini-batch gradient descent\n",
    "    * momentum\n",
    "    * Nesterov accelerated gradient descent\n",
    "* Gradient Descent is an optimization algo used to minimize loss by iteratively moving in the direction of steepest descent\n",
    "* Backpropagation is the process of calculating the gradient descent step\n",
    "* requires understanding of calculus and linear algebra\n",
    "* "
   ]
  },
  {
   "cell_type": "code",
   "execution_count": 2,
   "metadata": {},
   "outputs": [],
   "source": [
    "# TensorFlow and tf.keras\n",
    "import tensorflow as tf\n",
    "from tensorflow import keras\n",
    "\n",
    "# Helper libraries\n",
    "import numpy as np\n",
    "import matplotlib.pyplot as plt"
   ]
  },
  {
   "cell_type": "markdown",
   "metadata": {},
   "source": [
    "#### Data\n",
    "* MNIST fashion dataset\n",
    "* Included with Keras\n",
    "* includes 60K images for training and 10K for testing"
   ]
  },
  {
   "cell_type": "code",
   "execution_count": 3,
   "metadata": {},
   "outputs": [],
   "source": [
    "fashion_mnist = keras.datasets.fashion_mnist    # load dataset\n",
    "(train_images, train_labels), (test_images, test_labels) = fashion_mnist.load_data()    # split int training and test dataset"
   ]
  },
  {
   "cell_type": "code",
   "execution_count": 8,
   "metadata": {},
   "outputs": [
    {
     "data": {
      "text/plain": [
       "(60000, 28, 28)"
      ]
     },
     "execution_count": 8,
     "metadata": {},
     "output_type": "execute_result"
    }
   ],
   "source": [
    "train_images.shape\n",
    "# 60K images with each image 28x28 pixels"
   ]
  },
  {
   "cell_type": "code",
   "execution_count": 13,
   "metadata": {},
   "outputs": [
    {
     "data": {
      "text/plain": [
       "194"
      ]
     },
     "execution_count": 13,
     "metadata": {},
     "output_type": "execute_result"
    }
   ],
   "source": [
    "train_images[0, 23, 23]\n",
    "# Each pixel for grey scale images is a value between 0-255\n",
    "# 0 = black and 255 = white"
   ]
  },
  {
   "cell_type": "code",
   "execution_count": 12,
   "metadata": {},
   "outputs": [
    {
     "data": {
      "text/plain": [
       "numpy.ndarray"
      ]
     },
     "execution_count": 12,
     "metadata": {},
     "output_type": "execute_result"
    }
   ],
   "source": [
    "type(train_images)"
   ]
  },
  {
   "cell_type": "code",
   "execution_count": 16,
   "metadata": {},
   "outputs": [
    {
     "data": {
      "text/plain": [
       "array([9, 0, 0, 3, 0, 2, 7, 2, 5, 5], dtype=uint8)"
      ]
     },
     "execution_count": 16,
     "metadata": {},
     "output_type": "execute_result"
    }
   ],
   "source": [
    "train_labels[0:10]"
   ]
  },
  {
   "cell_type": "code",
   "execution_count": 18,
   "metadata": {},
   "outputs": [],
   "source": [
    "class_names = ['T-shirt/top', 'Trouser', 'Pullover', 'Dress', 'Coat',\n",
    "               'Sandal', 'Shirt', 'Sneaker', 'Bag', 'Ankle boot']"
   ]
  },
  {
   "cell_type": "code",
   "execution_count": 23,
   "metadata": {},
   "outputs": [
    {
     "data": {
      "image/png": "[encoded data removed]",
      "text/plain": [
       "<Figure size 432x288 with 2 Axes>"
      ]
     },
     "metadata": {
      "needs_background": "light"
     },
     "output_type": "display_data"
    }
   ],
   "source": [
    "plt.figure()\n",
    "plt.imshow(train_images[10])\n",
    "plt.colorbar()\n",
    "plt.grid(False)\n",
    "plt.show()"
   ]
  },
  {
   "cell_type": "markdown",
   "metadata": {},
   "source": [
    "#### Data Preprocessing"
   ]
  },
  {
   "cell_type": "code",
   "execution_count": 24,
   "metadata": {},
   "outputs": [],
   "source": [
    "train_images = train_images / 255.0\n",
    "test_images = test_images / 255.0"
   ]
  },
  {
   "cell_type": "markdown",
   "metadata": {},
   "source": [
    "#### Building the model"
   ]
  },
  {
   "cell_type": "code",
   "execution_count": 26,
   "metadata": {},
   "outputs": [],
   "source": [
    "model = keras.Sequential([\n",
    "    keras.layers.Flatten(input_shape=(28,28)),    # input layer 1\n",
    "    keras.layers.Dense(128, activation='relu'),   # hidden layer 2\n",
    "    keras.layers.Dense(10, activation='softmax') # output layer 3\n",
    "])"
   ]
  },
  {
   "cell_type": "markdown",
   "metadata": {},
   "source": [
    "#### Compile the model"
   ]
  },
  {
   "cell_type": "code",
   "execution_count": 27,
   "metadata": {},
   "outputs": [],
   "source": [
    "model.compile(optimizer = 'adam',\n",
    "             loss = 'sparse_categorical_crossentropy',\n",
    "             metrics = ['accuracy'])"
   ]
  },
  {
   "cell_type": "markdown",
   "metadata": {},
   "source": [
    "#### Training the model"
   ]
  },
  {
   "cell_type": "code",
   "execution_count": 28,
   "metadata": {},
   "outputs": [
    {
     "name": "stdout",
     "output_type": "stream",
     "text": [
      "Train on 60000 samples\n",
      "Epoch 1/10\n",
      "60000/60000 [==============================] - 12s 207us/sample - loss: 0.5007 - accuracy: 0.8264\n",
      "Epoch 2/10\n",
      "60000/60000 [==============================] - 11s 185us/sample - loss: 0.3778 - accuracy: 0.8642\n",
      "Epoch 3/10\n",
      "60000/60000 [==============================] - 13s 213us/sample - loss: 0.3358 - accuracy: 0.8777\n",
      "Epoch 4/10\n",
      "60000/60000 [==============================] - 13s 214us/sample - loss: 0.3116 - accuracy: 0.8862\n",
      "Epoch 5/10\n",
      "60000/60000 [==============================] - 13s 222us/sample - loss: 0.2950 - accuracy: 0.8903\n",
      "Epoch 6/10\n",
      "60000/60000 [==============================] - 13s 219us/sample - loss: 0.2789 - accuracy: 0.8964\n",
      "Epoch 7/10\n",
      "60000/60000 [==============================] - 14s 234us/sample - loss: 0.2676 - accuracy: 0.8993\n",
      "Epoch 8/10\n",
      "60000/60000 [==============================] - 14s 225us/sample - loss: 0.2546 - accuracy: 0.9053\n",
      "Epoch 9/10\n",
      "60000/60000 [==============================] - 14s 231us/sample - loss: 0.2459 - accuracy: 0.9076\n",
      "Epoch 10/10\n",
      "60000/60000 [==============================] - 14s 237us/sample - loss: 0.2383 - accuracy: 0.9102\n"
     ]
    },
    {
     "data": {
      "text/plain": [
       "<tensorflow.python.keras.callbacks.History at 0x7fa2b874e358>"
      ]
     },
     "execution_count": 28,
     "metadata": {},
     "output_type": "execute_result"
    }
   ],
   "source": [
    "model.fit(train_images, train_labels, epochs=10)"
   ]
  },
  {
   "cell_type": "markdown",
   "metadata": {},
   "source": [
    "#### Evaluating the model"
   ]
  },
  {
   "cell_type": "code",
   "execution_count": 29,
   "metadata": {},
   "outputs": [
    {
     "name": "stdout",
     "output_type": "stream",
     "text": [
      "10000/10000 [==============================] - 1s 114us/sample - loss: 0.3233 - accuracy: 0.8882\n",
      "Test accuracy: 0.8882\n"
     ]
    }
   ],
   "source": [
    "test_loss, test_acc = model.evaluate(test_images,  test_labels, verbose=1) \n",
    "\n",
    "print('Test accuracy:', test_acc)"
   ]
  },
  {
   "cell_type": "code",
   "execution_count": 32,
   "metadata": {},
   "outputs": [],
   "source": [
    "predictions = model.predict(test_images)"
   ]
  },
  {
   "cell_type": "code",
   "execution_count": 42,
   "metadata": {},
   "outputs": [
    {
     "name": "stdout",
     "output_type": "stream",
     "text": [
      "Trouser\n"
     ]
    }
   ],
   "source": [
    "print(class_names[np.argmax(predictions[5])])"
   ]
  },
  {
   "cell_type": "code",
   "execution_count": 43,
   "metadata": {},
   "outputs": [
    {
     "name": "stdout",
     "output_type": "stream",
     "text": [
      "Pick a number: 34\n"
     ]
    },
    {
     "data": {
      "image/png": "[encoded data removed]",
      "text/plain": [
       "<Figure size 432x288 with 2 Axes>"
      ]
     },
     "metadata": {
      "needs_background": "light"
     },
     "output_type": "display_data"
    }
   ],
   "source": [
    "COLOR = 'white'\n",
    "plt.rcParams['text.color'] = COLOR\n",
    "plt.rcParams['axes.labelcolor'] = COLOR\n",
    "\n",
    "def predict(model, image, correct_label):\n",
    "  class_names = ['T-shirt/top', 'Trouser', 'Pullover', 'Dress', 'Coat',\n",
    "               'Sandal', 'Shirt', 'Sneaker', 'Bag', 'Ankle boot']\n",
    "  prediction = model.predict(np.array([image]))\n",
    "  predicted_class = class_names[np.argmax(prediction)]\n",
    "\n",
    "  show_image(image, class_names[correct_label], predicted_class)\n",
    "\n",
    "\n",
    "def show_image(img, label, guess):\n",
    "  plt.figure()\n",
    "  plt.imshow(img, cmap=plt.cm.binary)\n",
    "  plt.title(\"Excpected: \" + label)\n",
    "  plt.xlabel(\"Guess: \" + guess)\n",
    "  plt.colorbar()\n",
    "  plt.grid(False)\n",
    "  plt.show()\n",
    "\n",
    "\n",
    "def get_number():\n",
    "  while True:\n",
    "    num = input(\"Pick a number: \")\n",
    "    if num.isdigit():\n",
    "      num = int(num)\n",
    "      if 0 <= num <= 1000:\n",
    "        return int(num)\n",
    "    else:\n",
    "      print(\"Try again...\")\n",
    "\n",
    "num = get_number()\n",
    "image = test_images[num]\n",
    "label = test_labels[num]\n",
    "predict(model, image, label)"
   ]
  },
  {
   "cell_type": "code",
   "execution_count": null,
   "metadata": {},
   "outputs": [],
   "source": []
  }
 ],
 "metadata": {
  "kernelspec": {
   "display_name": "TFenv",
   "language": "python",
   "name": "tfenv"
  },
  "language_info": {
   "codemirror_mode": {
    "name": "ipython",
    "version": 3
   },
   "file_extension": ".py",
   "mimetype": "text/x-python",
   "name": "python",
   "nbconvert_exporter": "python",
   "pygments_lexer": "ipython3",
   "version": "3.6.10"
  }
 },
 "nbformat": 4,
 "nbformat_minor": 4
}
